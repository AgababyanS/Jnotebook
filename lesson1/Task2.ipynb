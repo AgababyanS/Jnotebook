{
 "cells": [
  {
   "cell_type": "markdown",
   "metadata": {},
   "source": [
    "# задача 1.2\n",
    "\n",
    "Напишите функцию, которая из 2 списков, делает один словарь, где элементы из первого списка - ключи, а элементы из второго списка - значения \n",
    "keys = ['one', 'two', 'three']\n",
    "values = [1,2,3]\n",
    "Используйте анотирование типов\n",
    "используйте цикл for\n",
    "используйте dict comprehensions"
   ]
  },
  {
   "cell_type": "code",
   "execution_count": 6,
   "metadata": {},
   "outputs": [
    {
     "data": {
      "text/plain": [
       "{'one': 1, 'two': 2, 'three': 3}"
      ]
     },
     "execution_count": 6,
     "metadata": {},
     "output_type": "execute_result"
    }
   ],
   "source": [
    "def dict_new(lst_keys: list,lst_values: list)-> dict:\n",
    "    dictnew = dict()\n",
    "    for i in range(len(lst_keys)):\n",
    "    #lst_keys[i]\n",
    "        dictnew[lst_keys[i]]=lst_values[i]\n",
    "    return dictnew\n",
    "dict_new(['one', 'two', 'three'],[1,2,3])\n",
    "    #dict_new.keys(list_keys)\n",
    "    #dict_new.values(list_value)\n",
    "\n"
   ]
  },
  {
   "cell_type": "markdown",
   "metadata": {},
   "source": [
    "Используйте функцию zip. Проверьте на списках разной длины параметры/тесты: <funktion.name> (keys,values)->{'one': 1, 'two': 2, 'three': 3}"
   ]
  },
  {
   "cell_type": "code",
   "execution_count": 8,
   "metadata": {},
   "outputs": [
    {
     "name": "stdout",
     "output_type": "stream",
     "text": [
      "('one', 1)\n",
      "('two', 2)\n",
      "('three', 3)\n"
     ]
    }
   ],
   "source": [
    "keys = ['one', 'two', 'three']\n",
    "values = [1, 2, 3]\n",
    "new=zip(keys,values)\n",
    "for i in new:\n",
    "    print(i)\n",
    "\n"
   ]
  },
  {
   "cell_type": "code",
   "execution_count": 14,
   "metadata": {},
   "outputs": [
    {
     "name": "stdout",
     "output_type": "stream",
     "text": [
      "{'one': 1, 'two': 2, 'three': 3}\n"
     ]
    }
   ],
   "source": [
    "def dict_from_lists(keys: list,values: list)-> dict:\n",
    "    dict_new = dict()\n",
    "    for k,v in zip(keys,values):\n",
    "        dict_new[k]=v\n",
    "    return dict_new\n",
    "print(dict_from_lists(keys,values))"
   ]
  }
 ],
 "metadata": {
  "kernelspec": {
   "display_name": "Python 3",
   "language": "python",
   "name": "python3"
  },
  "language_info": {
   "codemirror_mode": {
    "name": "ipython",
    "version": 3
   },
   "file_extension": ".py",
   "mimetype": "text/x-python",
   "name": "python",
   "nbconvert_exporter": "python",
   "pygments_lexer": "ipython3",
   "version": "3.8.0"
  },
  "orig_nbformat": 4
 },
 "nbformat": 4,
 "nbformat_minor": 2
}
